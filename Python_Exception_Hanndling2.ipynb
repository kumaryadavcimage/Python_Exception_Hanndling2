{
 "cells": [
  {
   "cell_type": "markdown",
   "id": "6f9af8cf-bd84-4548-967c-d06b02632c4c",
   "metadata": {},
   "source": [
    "#### Q1. Explain why we have to use the Exception class while creating a Custom Exception."
   ]
  },
  {
   "cell_type": "markdown",
   "id": "bfb4a244-5562-427f-a467-e9864b1d7db4",
   "metadata": {},
   "source": [
    "#### solve\n",
    "In Python, when creating a custom exception, it is common practice to derive your custom exception class from the built-in Exception class or one of its subclasses. Here's why using the Exception class is recommended:\n",
    "\n",
    "a.Inheritance from a Base Exception Class:\n",
    "\n",
    "By inheriting from the Exception class, your custom exception becomes part of the broader exception hierarchy in Python.\n",
    "\n",
    "This hierarchy allows you to catch a wide range of exceptions using a more general except clause or catch more specific exceptions using subclasses.\n",
    "\n",
    "b.Compatibility with Existing Code:\n",
    "\n",
    "Python's exception handling mechanism is designed to work with the built-in exception hierarchy. Deriving from Exception ensures compatibility with existing code that expects to catch general exceptions.\n",
    "\n",
    "c.Standard Conventions:\n",
    "\n",
    "Following the standard conventions of deriving custom exceptions from the Exception class makes your code more readable and adheres to common practices in the Python community.\n",
    "\n",
    "d.Semantic Clarity:\n",
    "\n",
    "The use of the Exception class indicates that your custom exception is intended to represent a general error condition. If your exception is more specialized, you might choose to inherit from a more specific exception class like ValueError, TypeError, or others, depending on the nature of the error.\n",
    "\n",
    "Here's an example to illustrate the importance of inheriting from Exception:\n",
    "\n"
   ]
  },
  {
   "cell_type": "code",
   "execution_count": 1,
   "id": "a124ba8d-b4f7-4466-9070-a9f415e07d85",
   "metadata": {},
   "outputs": [
    {
     "name": "stdout",
     "output_type": "stream",
     "text": [
      "Caught an exception: This is a custom exception.\n"
     ]
    }
   ],
   "source": [
    "class CustomError(Exception):\n",
    "    pass\n",
    "\n",
    "try:\n",
    "    raise CustomError(\"This is a custom exception.\")\n",
    "except Exception as e:\n",
    "    print(f\"Caught an exception: {e}\")\n"
   ]
  },
  {
   "cell_type": "markdown",
   "id": "9d4e0a9d-d531-4e90-a560-26f8fd97eb21",
   "metadata": {},
   "source": [
    "####\n",
    "In this example, the CustomError class inherits from Exception. When an instance of CustomError is raised, it can be caught using the more general Exception class in the except block. This allows you to handle a wide range of exceptions, including your custom one."
   ]
  },
  {
   "cell_type": "markdown",
   "id": "ea2cf754-133b-4357-bdad-f7a8667fc7b9",
   "metadata": {},
   "source": [
    "#### Q2. Write a python program to print Python Exception Hierarchy."
   ]
  },
  {
   "cell_type": "markdown",
   "id": "785881cf-e2e0-4482-967f-803f4d06c079",
   "metadata": {},
   "source": [
    "#### solve\n",
    "\n",
    "Certainly! You can use the __bases__ attribute of exception classes to explore the Python exception hierarchy. Here's a simple Python program that prints the exception hierarchy:"
   ]
  },
  {
   "cell_type": "code",
   "execution_count": 2,
   "id": "cc68cb51-5366-48d6-bff8-f686580e2726",
   "metadata": {},
   "outputs": [
    {
     "name": "stdout",
     "output_type": "stream",
     "text": [
      "Exception\n",
      "  BaseException\n",
      "    object\n"
     ]
    }
   ],
   "source": [
    "def print_exception_hierarchy(exception_class, indentation=0):\n",
    "    print(\"  \" * indentation + f\"{exception_class.__name__}\")\n",
    "    for base_class in exception_class.__bases__:\n",
    "        print_exception_hierarchy(base_class, indentation + 1)\n",
    "\n",
    "# Start with the base class, Exception\n",
    "print_exception_hierarchy(Exception)\n"
   ]
  },
  {
   "cell_type": "markdown",
   "id": "7f528bc6-857c-48e8-84e2-8238c1e14240",
   "metadata": {},
   "source": [
    "####\n",
    "This program defines a recursive function print_exception_hierarchy that takes an exception class and prints its name, then iterates through its base classes and prints their names as well. The recursion continues until it reaches the top-level base class, BaseException"
   ]
  },
  {
   "cell_type": "markdown",
   "id": "ada0f42d-5156-47b9-9499-4437d11419b7",
   "metadata": {},
   "source": [
    "#### Q3. What errors are defined in the ArithmeticError class? Explain any two with an example."
   ]
  },
  {
   "cell_type": "markdown",
   "id": "293c2a4a-4522-47d0-addb-cdd59fd3a8ce",
   "metadata": {},
   "source": [
    "#### solve\n",
    "\n",
    "The ArithmeticError class in Python is a base class for numeric errors that may occur during arithmetic operations. It is part of the exception hierarchy for arithmetic-related errors. Two specific errors derived from ArithmeticError are ZeroDivisionError and OverflowError.\n",
    "\n",
    "a.ZeroDivisionError:\n",
    "\n",
    "Raised when attempting to divide a number by zero."
   ]
  },
  {
   "cell_type": "code",
   "execution_count": 3,
   "id": "4d3dba49-edf2-4ac2-aaeb-f46da0b5829e",
   "metadata": {},
   "outputs": [
    {
     "name": "stdout",
     "output_type": "stream",
     "text": [
      "Caught a ZeroDivisionError: division by zero\n"
     ]
    }
   ],
   "source": [
    "try:\n",
    "    result = 10 / 0  # This will raise ZeroDivisionError\n",
    "except ZeroDivisionError as e:\n",
    "    print(f\"Caught a ZeroDivisionError: {e}\")\n"
   ]
  },
  {
   "cell_type": "markdown",
   "id": "6bf88dff-b5f8-4d29-b84e-ff4083884547",
   "metadata": {},
   "source": [
    "####\n",
    "In this example, attempting to divide 10 by 0 raises a ZeroDivisionError. The program catches the exception and prints an informative message.\n",
    "\n",
    "b.OverflowError:\n",
    "\n",
    "Raised when the result of an arithmetic operation is too large to be represented within the limits of the data type."
   ]
  },
  {
   "cell_type": "code",
   "execution_count": 4,
   "id": "7723e281-aa76-4413-a156-19d5cc332924",
   "metadata": {},
   "outputs": [],
   "source": [
    "try:\n",
    "    result = 2 ** 1000  # This will raise OverflowError\n",
    "except OverflowError as e:\n",
    "    print(f\"Caught an OverflowError: {e}\")\n"
   ]
  },
  {
   "cell_type": "markdown",
   "id": "4b68eb5b-3f0a-4e9d-80bf-3805519fa3c1",
   "metadata": {},
   "source": [
    "####\n",
    "In this example, attempting to calculate 2 raised to the power of 1000 results in a number that exceeds the limits of the data type, leading to an OverflowError. The program catches the exception and prints an informative message."
   ]
  },
  {
   "cell_type": "markdown",
   "id": "5e951d71-3fb4-4932-8aa4-a26975b388a4",
   "metadata": {},
   "source": [
    "#### Q4. Why LookupError class is used? Explain with an example KeyError and IndexError."
   ]
  },
  {
   "cell_type": "markdown",
   "id": "82aff00b-05ff-4161-a1f5-28985e56a65f",
   "metadata": {},
   "source": [
    "#### solve\n",
    "\n",
    "The LookupError class in Python is a base class for exceptions that occur when a key or index is not found during a lookup operation. It's a subclass of the more general Exception class. LookupError itself has several subclasses, including KeyError and IndexError. These exceptions are commonly encountered when working with dictionaries, lists, or other data structures.\n",
    "\n",
    "Here are explanations and examples for KeyError and IndexError:\n",
    "\n",
    "a.KeyError:\n",
    "\n",
    "Raised when a dictionary key is not found."
   ]
  },
  {
   "cell_type": "code",
   "execution_count": 5,
   "id": "b68037f4-77e8-489d-9d34-4ad07b5a0ee8",
   "metadata": {},
   "outputs": [
    {
     "name": "stdout",
     "output_type": "stream",
     "text": [
      "Caught a KeyError: 'd'\n"
     ]
    }
   ],
   "source": [
    "my_dict = {'a': 1, 'b': 2, 'c': 3}\n",
    "\n",
    "try:\n",
    "    value = my_dict['d']  # This will raise KeyError\n",
    "except KeyError as e:\n",
    "    print(f\"Caught a KeyError: {e}\")\n"
   ]
  },
  {
   "cell_type": "markdown",
   "id": "1a30a4aa-e8b2-4d80-9195-d500a2ef833f",
   "metadata": {},
   "source": [
    "####\n",
    "In this example, the dictionary my_dict does not have a key 'd', so attempting to access my_dict['d'] raises a KeyError. The program catches the exception and prints an informative message.\n",
    "\n",
    "b.IndexError:\n",
    "\n",
    "Raised when attempting to access an index that is out of range in a sequence (e.g., a list)."
   ]
  },
  {
   "cell_type": "code",
   "execution_count": 6,
   "id": "6ef20afe-0d49-4d55-aebe-6a065c54a4a2",
   "metadata": {},
   "outputs": [
    {
     "name": "stdout",
     "output_type": "stream",
     "text": [
      "Caught an IndexError: list index out of range\n"
     ]
    }
   ],
   "source": [
    "my_list = [1, 2, 3, 4, 5]\n",
    "\n",
    "try:\n",
    "    value = my_list[10]  # This will raise IndexError\n",
    "except IndexError as e:\n",
    "    print(f\"Caught an IndexError: {e}\")\n"
   ]
  },
  {
   "cell_type": "markdown",
   "id": "3cce735c-be02-4d26-8e40-dfe314457209",
   "metadata": {},
   "source": [
    "####\n",
    "In this example, the list my_list has only indices 0 through 4, so attempting to access my_list[10] (which is out of range) raises an IndexError. The program catches the exception and prints an informative message."
   ]
  },
  {
   "cell_type": "markdown",
   "id": "a1e09862-2621-4333-9922-7719c48a9410",
   "metadata": {},
   "source": [
    "#### Q5. Explain ImportError. What is ModuleNotFoundError?"
   ]
  },
  {
   "cell_type": "markdown",
   "id": "88829514-5181-493e-8eb8-5b04d8e3b7a8",
   "metadata": {},
   "source": [
    "#### solve\n",
    "ImportError is a base class for exceptions raised when an import statement fails to import a module. It is a subclass of the built-in Exception class. When an import statement encounters a problem, it raises an ImportError or one of its subclasses to indicate the nature of the error.\n",
    "\n",
    "One specific subclass of ImportError is ModuleNotFoundError. This exception is raised when an attempt to import a module fails because the specified module cannot be found or does not exist. ModuleNotFoundError was introduced in Python 3.6 to provide more clarity regarding import-related errors.\n",
    "\n",
    "Here's an example to illustrate the usage of ImportError and ModuleNotFoundError:"
   ]
  },
  {
   "cell_type": "code",
   "execution_count": 7,
   "id": "806ecdd4-d2ed-46a6-9a04-7cfe7430baea",
   "metadata": {},
   "outputs": [
    {
     "name": "stdout",
     "output_type": "stream",
     "text": [
      "Caught an ImportError: No module named 'non_existent_module'\n",
      "Specifically, this is a ModuleNotFoundError.\n"
     ]
    }
   ],
   "source": [
    "try:\n",
    "    # Attempting to import a non-existent module\n",
    "    import non_existent_module\n",
    "except ImportError as e:\n",
    "    print(f\"Caught an ImportError: {e}\")\n",
    "    if isinstance(e, ModuleNotFoundError):\n",
    "        print(\"Specifically, this is a ModuleNotFoundError.\")\n"
   ]
  },
  {
   "cell_type": "markdown",
   "id": "d0f55476-59e7-4915-b00c-7d10e9350391",
   "metadata": {},
   "source": [
    "####\n",
    "In this example, the import non_existent_module statement attempts to import a module that does not exist. This will raise an ImportError. The program catches the exception and prints an informative message. Additionally, it checks whether the caught exception is an instance of ModuleNotFoundError and provides additional information if it is.\n",
    "\n",
    "Prior to Python 3.6, you might encounter a plain ImportError without the ModuleNotFoundError subclass. However, in Python 3.6 and later, the use of ModuleNotFoundError helps distinguish cases where the module itself is not found during the import process."
   ]
  },
  {
   "cell_type": "markdown",
   "id": "a0c016aa-45f9-48ed-a63d-24dc927a5858",
   "metadata": {},
   "source": [
    "#### Q6. List down some best practices for exception handling in python."
   ]
  },
  {
   "cell_type": "markdown",
   "id": "7cd1fbb2-e8c4-4f59-8a68-6555b3efb8d8",
   "metadata": {},
   "source": [
    "#### solve\n",
    "\n",
    "Exception handling is an important aspect of writing robust and reliable Python code. Here are some best practices for exception handling in Python:\n",
    "\n",
    "a.Use Specific Exceptions:\n",
    "\n",
    "Catch specific exceptions rather than using a generic except clause. This helps in identifying and handling different types of errors appropriately.\n",
    "\n",
    "b.Avoid Using a Bare except Clause:\n",
    "\n",
    "Avoid catching all exceptions using a bare except clause. It makes it harder to identify and debug issues.\n",
    "\n",
    "c.Use finally for Cleanup:\n",
    "\n",
    "Utilize the finally block for code that must be executed regardless of whether an exception is raised or not (e.g., cleanup operations).\n",
    "\n",
    "d.Handle Multiple Exceptions:\n",
    "\n",
    "Handle multiple exceptions by using multiple except clauses or a tuple in a single except clause.\n",
    "\n",
    "e.Avoid Silent Failures:\n",
    "\n",
    "Avoid silent failures where an exception is caught but not appropriately handled or logged. Provide meaningful error messages\n",
    "\n",
    "f.Log Exceptions:\n",
    "\n",
    "Log exceptions using the logging module or another logging mechanism. This aids in debugging and understanding the cause of issues.\n",
    "\n",
    "g.Reraise Exceptions Judiciously:\n",
    "\n",
    "Reraise exceptions only when necessary. If you catch an exception but cannot handle it appropriately, consider reraising it to let higher-level handlers deal with it.\n",
    "\n",
    "h.Use else Block Sparingly:\n",
    "\n",
    "Use the else block after a try block to contain code that should run when no exceptions occur. However, avoid excessive use of else to maintain code clarity.\n",
    "\n",
    "i.Consider Context Managers:\n",
    "\n",
    "Use context managers (with statements) when dealing with resources that need to be cleaned up, such as file handling.\n",
    "\n",
    "j.Document Exception Handling:\n",
    "\n",
    "Add comments or docstrings to explain the rationale behind specific exception handling choices, especially in complex or critical sections of code."
   ]
  },
  {
   "cell_type": "code",
   "execution_count": null,
   "id": "3c682cb4-dfc0-4d6b-8ef6-9ee2ae0d4b0b",
   "metadata": {},
   "outputs": [],
   "source": []
  }
 ],
 "metadata": {
  "kernelspec": {
   "display_name": "Python 3 (ipykernel)",
   "language": "python",
   "name": "python3"
  },
  "language_info": {
   "codemirror_mode": {
    "name": "ipython",
    "version": 3
   },
   "file_extension": ".py",
   "mimetype": "text/x-python",
   "name": "python",
   "nbconvert_exporter": "python",
   "pygments_lexer": "ipython3",
   "version": "3.10.8"
  }
 },
 "nbformat": 4,
 "nbformat_minor": 5
}
